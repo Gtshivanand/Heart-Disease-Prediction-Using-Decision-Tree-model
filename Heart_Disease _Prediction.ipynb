{
 "cells": [
  {
   "cell_type": "markdown",
   "id": "5c2f9331-c546-4e60-9448-f2dca6917d82",
   "metadata": {},
   "source": [
    "# Heart Disease Prediction"
   ]
  },
  {
   "cell_type": "markdown",
   "id": "fb611066-bced-428c-8400-271c111a349e",
   "metadata": {},
   "source": [
    "# Heart disease is easier to treat when it is detected in the early stages. Machine learning techniques may aid a more efficient analysis in the prediction of the disease. Moreover, this prediction is one of the most central problems in medicine, as it is one of the leading diseases related to an unhealthy lifestyle. So, an early prediction of this disease will be useful for a cure or aversion.\n",
    "\n"
   ]
  },
  {
   "cell_type": "markdown",
   "id": "2ad1e73b-3881-4ebf-9d25-3e81b0c7060c",
   "metadata": {},
   "source": [
    "# Problem Statement:Analyze the heart disease dataset to explore the machine learning algorithms and build a decision tree model to predict the disease.\n"
   ]
  },
  {
   "cell_type": "markdown",
   "id": "2dde4a67-7b83-43b7-aacb-e4158f018196",
   "metadata": {},
   "source": [
    "# Dataset Information: \n",
    "\n",
    "Each attribute in the heart disease dataset is a medical risk factor.\n",
    "\n",
    "\n",
    "# Variable Description:\n",
    "\n",
    "Column\tDescription\n",
    "age\tAge of the patient\n",
    "gender\tGender of the patient - (0,1) - (Male, Female)\n",
    "chest_pain\tIt refers to the chest pain experienced by the patient -(0,1,2,3)\n",
    "rest_bps\tBlood pressure of the patient while resting(in mm/Hg)\n",
    "cholesterol\tPatient's cholesterol level (in mg/dl)\n",
    "fasting_blood_sugar\tThe blood sugar of the patient while fasting\n",
    "rest_ecg\tPotassium level (0,1,2)\n",
    "thalach\tThe patient’s maximum heart rate\n",
    "exer_angina\tIt refers to exercise-induced angina - (1=Yes, 0=No)\n",
    " \n",
    "\n",
    "old_peak\tIt is the ST depression induced by exercise relative to rest(ST relates to the position on ECG plots)\n",
    "slope\tIt refers to the slope of the peak of the exercise ST-Segment- (0,1,2)\n",
    "ca\tNumber of major vessels - (0,1,2,3,4)\n",
    "thalassemia\tIt refers to thalassemia which is a blood disorder - (0,1,2,3)\n",
    "target\tThe patient has heart disease or not - (1=Yes, 0=No)\n",
    "\n"
   ]
  },
  {
   "cell_type": "code",
   "execution_count": 10,
   "id": "0411e428-d831-40cc-83ed-ab621afe3629",
   "metadata": {},
   "outputs": [],
   "source": [
    "import pandas as pd\n",
    "import numpy as np\n",
    "import seaborn as sns\n",
    "import matplotlib.pyplot as plt\n",
    "from sklearn.model_selection import train_test_split as tts \n",
    "from sklearn.metrics import confusion_matrix, ConfusionMatrixDisplay\n",
    "from sklearn.metrics import accuracy_score, precision_score, recall_score"
   ]
  },
  {
   "cell_type": "code",
   "execution_count": 11,
   "id": "87caedaf-c886-4a37-be7c-7969ea6829d1",
   "metadata": {
    "tags": []
   },
   "outputs": [],
   "source": [
    "df = pd.read_csv('HeartDisease.csv')\n"
   ]
  },
  {
   "cell_type": "code",
   "execution_count": 12,
   "id": "b70756f1-86bc-4334-bdd3-a8471555d5b7",
   "metadata": {},
   "outputs": [
    {
     "data": {
      "text/html": [
       "<div>\n",
       "<style scoped>\n",
       "    .dataframe tbody tr th:only-of-type {\n",
       "        vertical-align: middle;\n",
       "    }\n",
       "\n",
       "    .dataframe tbody tr th {\n",
       "        vertical-align: top;\n",
       "    }\n",
       "\n",
       "    .dataframe thead th {\n",
       "        text-align: right;\n",
       "    }\n",
       "</style>\n",
       "<table border=\"1\" class=\"dataframe\">\n",
       "  <thead>\n",
       "    <tr style=\"text-align: right;\">\n",
       "      <th></th>\n",
       "      <th>age</th>\n",
       "      <th>gender</th>\n",
       "      <th>chest_pain</th>\n",
       "      <th>rest_bps</th>\n",
       "      <th>cholestrol</th>\n",
       "      <th>fasting_blood_sugar</th>\n",
       "      <th>rest_ecg</th>\n",
       "      <th>thalach</th>\n",
       "      <th>exer_angina</th>\n",
       "      <th>old_peak</th>\n",
       "      <th>slope</th>\n",
       "      <th>ca</th>\n",
       "      <th>thalassemia</th>\n",
       "      <th>target</th>\n",
       "    </tr>\n",
       "  </thead>\n",
       "  <tbody>\n",
       "    <tr>\n",
       "      <th>0</th>\n",
       "      <td>63</td>\n",
       "      <td>1</td>\n",
       "      <td>3</td>\n",
       "      <td>145</td>\n",
       "      <td>233</td>\n",
       "      <td>1</td>\n",
       "      <td>0</td>\n",
       "      <td>150</td>\n",
       "      <td>0</td>\n",
       "      <td>2.3</td>\n",
       "      <td>0</td>\n",
       "      <td>0</td>\n",
       "      <td>1</td>\n",
       "      <td>1</td>\n",
       "    </tr>\n",
       "    <tr>\n",
       "      <th>1</th>\n",
       "      <td>37</td>\n",
       "      <td>1</td>\n",
       "      <td>2</td>\n",
       "      <td>130</td>\n",
       "      <td>250</td>\n",
       "      <td>0</td>\n",
       "      <td>1</td>\n",
       "      <td>187</td>\n",
       "      <td>0</td>\n",
       "      <td>3.5</td>\n",
       "      <td>0</td>\n",
       "      <td>0</td>\n",
       "      <td>2</td>\n",
       "      <td>1</td>\n",
       "    </tr>\n",
       "    <tr>\n",
       "      <th>2</th>\n",
       "      <td>41</td>\n",
       "      <td>0</td>\n",
       "      <td>1</td>\n",
       "      <td>130</td>\n",
       "      <td>204</td>\n",
       "      <td>0</td>\n",
       "      <td>0</td>\n",
       "      <td>172</td>\n",
       "      <td>0</td>\n",
       "      <td>1.4</td>\n",
       "      <td>2</td>\n",
       "      <td>0</td>\n",
       "      <td>2</td>\n",
       "      <td>1</td>\n",
       "    </tr>\n",
       "    <tr>\n",
       "      <th>3</th>\n",
       "      <td>56</td>\n",
       "      <td>1</td>\n",
       "      <td>1</td>\n",
       "      <td>120</td>\n",
       "      <td>236</td>\n",
       "      <td>0</td>\n",
       "      <td>1</td>\n",
       "      <td>178</td>\n",
       "      <td>0</td>\n",
       "      <td>0.8</td>\n",
       "      <td>2</td>\n",
       "      <td>0</td>\n",
       "      <td>2</td>\n",
       "      <td>1</td>\n",
       "    </tr>\n",
       "    <tr>\n",
       "      <th>4</th>\n",
       "      <td>57</td>\n",
       "      <td>0</td>\n",
       "      <td>0</td>\n",
       "      <td>120</td>\n",
       "      <td>354</td>\n",
       "      <td>0</td>\n",
       "      <td>1</td>\n",
       "      <td>163</td>\n",
       "      <td>1</td>\n",
       "      <td>0.6</td>\n",
       "      <td>2</td>\n",
       "      <td>0</td>\n",
       "      <td>2</td>\n",
       "      <td>1</td>\n",
       "    </tr>\n",
       "    <tr>\n",
       "      <th>...</th>\n",
       "      <td>...</td>\n",
       "      <td>...</td>\n",
       "      <td>...</td>\n",
       "      <td>...</td>\n",
       "      <td>...</td>\n",
       "      <td>...</td>\n",
       "      <td>...</td>\n",
       "      <td>...</td>\n",
       "      <td>...</td>\n",
       "      <td>...</td>\n",
       "      <td>...</td>\n",
       "      <td>...</td>\n",
       "      <td>...</td>\n",
       "      <td>...</td>\n",
       "    </tr>\n",
       "    <tr>\n",
       "      <th>298</th>\n",
       "      <td>57</td>\n",
       "      <td>0</td>\n",
       "      <td>0</td>\n",
       "      <td>140</td>\n",
       "      <td>241</td>\n",
       "      <td>0</td>\n",
       "      <td>1</td>\n",
       "      <td>123</td>\n",
       "      <td>1</td>\n",
       "      <td>0.2</td>\n",
       "      <td>1</td>\n",
       "      <td>0</td>\n",
       "      <td>3</td>\n",
       "      <td>0</td>\n",
       "    </tr>\n",
       "    <tr>\n",
       "      <th>299</th>\n",
       "      <td>45</td>\n",
       "      <td>1</td>\n",
       "      <td>3</td>\n",
       "      <td>110</td>\n",
       "      <td>264</td>\n",
       "      <td>0</td>\n",
       "      <td>1</td>\n",
       "      <td>132</td>\n",
       "      <td>0</td>\n",
       "      <td>1.2</td>\n",
       "      <td>1</td>\n",
       "      <td>0</td>\n",
       "      <td>3</td>\n",
       "      <td>0</td>\n",
       "    </tr>\n",
       "    <tr>\n",
       "      <th>300</th>\n",
       "      <td>68</td>\n",
       "      <td>1</td>\n",
       "      <td>0</td>\n",
       "      <td>144</td>\n",
       "      <td>193</td>\n",
       "      <td>1</td>\n",
       "      <td>1</td>\n",
       "      <td>141</td>\n",
       "      <td>0</td>\n",
       "      <td>3.4</td>\n",
       "      <td>1</td>\n",
       "      <td>2</td>\n",
       "      <td>3</td>\n",
       "      <td>0</td>\n",
       "    </tr>\n",
       "    <tr>\n",
       "      <th>301</th>\n",
       "      <td>57</td>\n",
       "      <td>1</td>\n",
       "      <td>0</td>\n",
       "      <td>130</td>\n",
       "      <td>131</td>\n",
       "      <td>0</td>\n",
       "      <td>1</td>\n",
       "      <td>115</td>\n",
       "      <td>1</td>\n",
       "      <td>1.2</td>\n",
       "      <td>1</td>\n",
       "      <td>1</td>\n",
       "      <td>3</td>\n",
       "      <td>0</td>\n",
       "    </tr>\n",
       "    <tr>\n",
       "      <th>302</th>\n",
       "      <td>57</td>\n",
       "      <td>0</td>\n",
       "      <td>1</td>\n",
       "      <td>130</td>\n",
       "      <td>236</td>\n",
       "      <td>0</td>\n",
       "      <td>0</td>\n",
       "      <td>174</td>\n",
       "      <td>0</td>\n",
       "      <td>0.0</td>\n",
       "      <td>1</td>\n",
       "      <td>1</td>\n",
       "      <td>2</td>\n",
       "      <td>0</td>\n",
       "    </tr>\n",
       "  </tbody>\n",
       "</table>\n",
       "<p>303 rows × 14 columns</p>\n",
       "</div>"
      ],
      "text/plain": [
       "     age  gender  chest_pain  rest_bps  cholestrol  fasting_blood_sugar  \\\n",
       "0     63       1           3       145         233                    1   \n",
       "1     37       1           2       130         250                    0   \n",
       "2     41       0           1       130         204                    0   \n",
       "3     56       1           1       120         236                    0   \n",
       "4     57       0           0       120         354                    0   \n",
       "..   ...     ...         ...       ...         ...                  ...   \n",
       "298   57       0           0       140         241                    0   \n",
       "299   45       1           3       110         264                    0   \n",
       "300   68       1           0       144         193                    1   \n",
       "301   57       1           0       130         131                    0   \n",
       "302   57       0           1       130         236                    0   \n",
       "\n",
       "     rest_ecg  thalach  exer_angina  old_peak  slope  ca  thalassemia  target  \n",
       "0           0      150            0       2.3      0   0            1       1  \n",
       "1           1      187            0       3.5      0   0            2       1  \n",
       "2           0      172            0       1.4      2   0            2       1  \n",
       "3           1      178            0       0.8      2   0            2       1  \n",
       "4           1      163            1       0.6      2   0            2       1  \n",
       "..        ...      ...          ...       ...    ...  ..          ...     ...  \n",
       "298         1      123            1       0.2      1   0            3       0  \n",
       "299         1      132            0       1.2      1   0            3       0  \n",
       "300         1      141            0       3.4      1   2            3       0  \n",
       "301         1      115            1       1.2      1   1            3       0  \n",
       "302         0      174            0       0.0      1   1            2       0  \n",
       "\n",
       "[303 rows x 14 columns]"
      ]
     },
     "execution_count": 12,
     "metadata": {},
     "output_type": "execute_result"
    }
   ],
   "source": [
    "df"
   ]
  },
  {
   "cell_type": "markdown",
   "id": "d268e4a7-0a6b-40f3-a6a4-c7ffdab56528",
   "metadata": {},
   "source": [
    "* Checking the null values is there any column that have most of the values are null\n",
    "* Duplicated Values \n",
    "* drop Duplicated  Values if have any \n",
    "* in case of Classification Check does data Balanced or not\n",
    "* Train Test Split "
   ]
  },
  {
   "cell_type": "code",
   "execution_count": 13,
   "id": "a3c5170e-9cc5-4a78-9bdf-0ec90aae0269",
   "metadata": {
    "tags": []
   },
   "outputs": [
    {
     "data": {
      "text/plain": [
       "age                    0\n",
       "gender                 0\n",
       "chest_pain             0\n",
       "rest_bps               0\n",
       "cholestrol             0\n",
       "fasting_blood_sugar    0\n",
       "rest_ecg               0\n",
       "thalach                0\n",
       "exer_angina            0\n",
       "old_peak               0\n",
       "slope                  0\n",
       "ca                     0\n",
       "thalassemia            0\n",
       "target                 0\n",
       "dtype: int64"
      ]
     },
     "execution_count": 13,
     "metadata": {},
     "output_type": "execute_result"
    }
   ],
   "source": [
    "# Null values Check \n",
    "df.isnull().sum()"
   ]
  },
  {
   "cell_type": "code",
   "execution_count": 14,
   "id": "2c4736b3-1c0f-488c-b6f1-d8ceb6efe5fb",
   "metadata": {
    "tags": []
   },
   "outputs": [
    {
     "data": {
      "text/plain": [
       "1"
      ]
     },
     "execution_count": 14,
     "metadata": {},
     "output_type": "execute_result"
    }
   ],
   "source": [
    "# Check duplicate values \n",
    "df.duplicated().sum()"
   ]
  },
  {
   "cell_type": "code",
   "execution_count": 15,
   "id": "7404abc3-861a-4df9-9af9-ec14e9fa0312",
   "metadata": {
    "tags": []
   },
   "outputs": [
    {
     "data": {
      "text/html": [
       "<div>\n",
       "<style scoped>\n",
       "    .dataframe tbody tr th:only-of-type {\n",
       "        vertical-align: middle;\n",
       "    }\n",
       "\n",
       "    .dataframe tbody tr th {\n",
       "        vertical-align: top;\n",
       "    }\n",
       "\n",
       "    .dataframe thead th {\n",
       "        text-align: right;\n",
       "    }\n",
       "</style>\n",
       "<table border=\"1\" class=\"dataframe\">\n",
       "  <thead>\n",
       "    <tr style=\"text-align: right;\">\n",
       "      <th></th>\n",
       "      <th>age</th>\n",
       "      <th>gender</th>\n",
       "      <th>chest_pain</th>\n",
       "      <th>rest_bps</th>\n",
       "      <th>cholestrol</th>\n",
       "      <th>fasting_blood_sugar</th>\n",
       "      <th>rest_ecg</th>\n",
       "      <th>thalach</th>\n",
       "      <th>exer_angina</th>\n",
       "      <th>old_peak</th>\n",
       "      <th>slope</th>\n",
       "      <th>ca</th>\n",
       "      <th>thalassemia</th>\n",
       "      <th>target</th>\n",
       "    </tr>\n",
       "  </thead>\n",
       "  <tbody>\n",
       "    <tr>\n",
       "      <th>163</th>\n",
       "      <td>38</td>\n",
       "      <td>1</td>\n",
       "      <td>2</td>\n",
       "      <td>138</td>\n",
       "      <td>175</td>\n",
       "      <td>0</td>\n",
       "      <td>1</td>\n",
       "      <td>173</td>\n",
       "      <td>0</td>\n",
       "      <td>0.0</td>\n",
       "      <td>2</td>\n",
       "      <td>4</td>\n",
       "      <td>2</td>\n",
       "      <td>1</td>\n",
       "    </tr>\n",
       "    <tr>\n",
       "      <th>164</th>\n",
       "      <td>38</td>\n",
       "      <td>1</td>\n",
       "      <td>2</td>\n",
       "      <td>138</td>\n",
       "      <td>175</td>\n",
       "      <td>0</td>\n",
       "      <td>1</td>\n",
       "      <td>173</td>\n",
       "      <td>0</td>\n",
       "      <td>0.0</td>\n",
       "      <td>2</td>\n",
       "      <td>4</td>\n",
       "      <td>2</td>\n",
       "      <td>1</td>\n",
       "    </tr>\n",
       "  </tbody>\n",
       "</table>\n",
       "</div>"
      ],
      "text/plain": [
       "     age  gender  chest_pain  rest_bps  cholestrol  fasting_blood_sugar  \\\n",
       "163   38       1           2       138         175                    0   \n",
       "164   38       1           2       138         175                    0   \n",
       "\n",
       "     rest_ecg  thalach  exer_angina  old_peak  slope  ca  thalassemia  target  \n",
       "163         1      173            0       0.0      2   4            2       1  \n",
       "164         1      173            0       0.0      2   4            2       1  "
      ]
     },
     "execution_count": 15,
     "metadata": {},
     "output_type": "execute_result"
    }
   ],
   "source": [
    "df[df.duplicated(keep = False)]"
   ]
  },
  {
   "cell_type": "code",
   "execution_count": 16,
   "id": "72280829-d644-4a7b-abe9-fd00080ce679",
   "metadata": {
    "tags": []
   },
   "outputs": [],
   "source": [
    "# drop the Duplicated value\n",
    "df.drop_duplicates(inplace = True)"
   ]
  },
  {
   "cell_type": "code",
   "execution_count": 17,
   "id": "17588228-a626-44bd-89a8-197e59198cd5",
   "metadata": {
    "tags": []
   },
   "outputs": [
    {
     "data": {
      "text/plain": [
       "target\n",
       "1    0.543046\n",
       "0    0.456954\n",
       "Name: proportion, dtype: float64"
      ]
     },
     "execution_count": 17,
     "metadata": {},
     "output_type": "execute_result"
    }
   ],
   "source": [
    "# data is Balanced or not \n",
    "df['target'].value_counts(1)"
   ]
  },
  {
   "cell_type": "raw",
   "id": "d5fdb9b2-5ba0-45d8-9d76-b8e3ac2cdf05",
   "metadata": {},
   "source": [
    "we check the data there is no null Values\n",
    "found the 1 duplicated values so drop that \n",
    "data is  approxmaitly balanced"
   ]
  },
  {
   "cell_type": "code",
   "execution_count": null,
   "id": "58a735c3-4664-4d7b-8031-f58f85f5eca8",
   "metadata": {},
   "outputs": [],
   "source": []
  },
  {
   "cell_type": "markdown",
   "id": "89d2c6ed-da91-41cf-bcbb-b93b195da3ca",
   "metadata": {},
   "source": [
    "## Data Preprocessing "
   ]
  },
  {
   "cell_type": "code",
   "execution_count": 18,
   "id": "41c7d216-df7b-49a8-89e7-1975cf41925e",
   "metadata": {
    "tags": []
   },
   "outputs": [],
   "source": [
    "x = df.drop(columns = 'target')\n",
    "y = df['target']"
   ]
  },
  {
   "cell_type": "code",
   "execution_count": 19,
   "id": "0ec43214-94ec-4dce-adea-8d551a406047",
   "metadata": {
    "tags": []
   },
   "outputs": [
    {
     "data": {
      "text/plain": [
       "((226, 13), (76, 13), (226,), (76,))"
      ]
     },
     "execution_count": 19,
     "metadata": {},
     "output_type": "execute_result"
    }
   ],
   "source": [
    "x_train, x_test , y_train, y_test = tts(x,y, random_state = 42, test_size = 0.25)\n",
    "x_train.shape, x_test.shape , y_train.shape, y_test.shape"
   ]
  },
  {
   "cell_type": "code",
   "execution_count": null,
   "id": "4ec18c56-ff67-4d9d-82ea-54a30f23c0b6",
   "metadata": {},
   "outputs": [],
   "source": []
  },
  {
   "cell_type": "raw",
   "id": "f0a8b10e-ec40-4fce-a3f3-528be19f1b40",
   "metadata": {},
   "source": [
    "* We Already knew that there are no null values in our data se we don't have to check the null values and duplicated again\n",
    "* we just have to Check outliers in data if found any then handel them or remove."
   ]
  },
  {
   "cell_type": "code",
   "execution_count": 21,
   "id": "2f687fc9-00fd-4f48-8ee5-bf045c900ce6",
   "metadata": {
    "tags": []
   },
   "outputs": [],
   "source": [
    "# function that found the outlier in data\n",
    "\n",
    "def CheckOutliers(df):\n",
    "    columns = [ i for i in df.columns if df[i].dtype != \"O\"]\n",
    "    ol= pd.DataFrame({'method':[],'Column':[],'No_of_outliers':[],'Persantage_of_outliers':[]})\n",
    "    \n",
    "    for col in columns:\n",
    "        if -0.5 < df[col].skew() < 0.5:\n",
    "            ub = df[col].mean() + (df[col].std())*3\n",
    "            lb = df[col].mean() - (df[col].std())*3\n",
    "            outliers = len(df[(df[col] > ub) | (df[col] < lb)][col])\n",
    "            perchentage_of_Outlier = round((outliers/len(df)) * 100,2)\n",
    "            temp = pd.DataFrame({'method':['Z-Score'],'Column':[col],'No_of_outliers':[outliers],\n",
    "                                 'Persantage_of_outliers':[perchentage_of_Outlier]})\n",
    "            \n",
    "            ol = pd.concat([ol,temp]).reset_index(drop = True)\n",
    "            \n",
    "        else:\n",
    "            q1 = df[col].quantile(0.25)\n",
    "            q3 = df[col].quantile(0.75)\n",
    "            iqr = q3 - q1\n",
    "            lw = q1 - 1.5*(iqr)\n",
    "            uw = q3 + 1.5*(iqr)\n",
    "            \n",
    "            outliers = len(df[(df[col] > uw) | (df[col] < lw)][col])\n",
    "            perchentage_of_Outlier = round((outliers/len(df)) * 100,2)\n",
    "            tempp = pd.DataFrame({'method':['IQR'],'Column':[col],'No_of_outliers':[outliers],\n",
    "                                 'Persantage_of_outliers':[perchentage_of_Outlier]})\n",
    "            \n",
    "            ol = pd.concat([ol,tempp]).reset_index(drop = True)\n",
    "    \n",
    "    return ol"
   ]
  },
  {
   "cell_type": "code",
   "execution_count": 22,
   "id": "1949823a-8452-45e6-861e-453ee3688e84",
   "metadata": {
    "tags": []
   },
   "outputs": [],
   "source": [
    "# Function that Found the Outlier index in data both train and test data  \n",
    "\n",
    "def OutlierIndex(df, df1):\n",
    "    columns = [ i for i in df.columns if df[i].dtype != \"O\"]\n",
    "    indexes= []\n",
    "    test_indexes = []\n",
    "    for col in columns:\n",
    "        if -0.5 < df[col].skew() < 0.5:\n",
    "            ub = df[col].mean() + (df[col].std())*3\n",
    "            lb = df[col].mean() - (df[col].std())*3\n",
    "            \n",
    "            outlier_index = df[(df[col] > ub) | (df[col] < lb)].index.tolist()\n",
    "            test_outlier_index = df1[(df1[col] > ub) | (df1[col] < lb)].index.tolist()\n",
    "            \n",
    "            indexes.extend(outlier_index)\n",
    "            test_indexes.extend(test_outlier_index)\n",
    "            \n",
    "        else:\n",
    "            q1 = df[col].quantile(0.25)\n",
    "            q3 = df[col].quantile(0.75)\n",
    "            iqr = q3 - q1\n",
    "            lw = q1 - 1.5*(iqr)\n",
    "            uw = q3 + 1.5*(iqr)\n",
    "            \n",
    "            outlier_index = df[(df[col] > uw) | (df[col] < lw)].index.tolist()\n",
    "            test_outlier_index = df1[(df1[col] > uw) | (df1[col] < lw)].index.tolist()\n",
    "            \n",
    "            indexes.extend(outlier_index)\n",
    "            test_indexes.extend(test_outlier_index)\n",
    "            \n",
    "            \n",
    "    index = set(indexes)\n",
    "    test_index = set(test_indexes)\n",
    "    \n",
    "    return pd.Series(list(index)), pd.Series(list(test_index))"
   ]
  },
  {
   "cell_type": "code",
   "execution_count": 23,
   "id": "8edb211c-4992-4126-9271-6ffd01c96341",
   "metadata": {
    "tags": []
   },
   "outputs": [],
   "source": [
    "col_series = x_train.nunique().sort_values(ascending = False)\n",
    "numeric_data_columns = col_series[col_series>30].index"
   ]
  },
  {
   "cell_type": "code",
   "execution_count": 24,
   "id": "92ea7ae2-dda6-4e47-afe9-c9d6dd5898c0",
   "metadata": {
    "tags": []
   },
   "outputs": [
    {
     "data": {
      "text/html": [
       "<div>\n",
       "<style scoped>\n",
       "    .dataframe tbody tr th:only-of-type {\n",
       "        vertical-align: middle;\n",
       "    }\n",
       "\n",
       "    .dataframe tbody tr th {\n",
       "        vertical-align: top;\n",
       "    }\n",
       "\n",
       "    .dataframe thead th {\n",
       "        text-align: right;\n",
       "    }\n",
       "</style>\n",
       "<table border=\"1\" class=\"dataframe\">\n",
       "  <thead>\n",
       "    <tr style=\"text-align: right;\">\n",
       "      <th></th>\n",
       "      <th>method</th>\n",
       "      <th>Column</th>\n",
       "      <th>No_of_outliers</th>\n",
       "      <th>Persantage_of_outliers</th>\n",
       "    </tr>\n",
       "  </thead>\n",
       "  <tbody>\n",
       "    <tr>\n",
       "      <th>0</th>\n",
       "      <td>IQR</td>\n",
       "      <td>cholestrol</td>\n",
       "      <td>4.0</td>\n",
       "      <td>1.77</td>\n",
       "    </tr>\n",
       "    <tr>\n",
       "      <th>1</th>\n",
       "      <td>Z-Score</td>\n",
       "      <td>thalach</td>\n",
       "      <td>0.0</td>\n",
       "      <td>0.00</td>\n",
       "    </tr>\n",
       "    <tr>\n",
       "      <th>2</th>\n",
       "      <td>IQR</td>\n",
       "      <td>rest_bps</td>\n",
       "      <td>7.0</td>\n",
       "      <td>3.10</td>\n",
       "    </tr>\n",
       "    <tr>\n",
       "      <th>3</th>\n",
       "      <td>Z-Score</td>\n",
       "      <td>age</td>\n",
       "      <td>0.0</td>\n",
       "      <td>0.00</td>\n",
       "    </tr>\n",
       "    <tr>\n",
       "      <th>4</th>\n",
       "      <td>IQR</td>\n",
       "      <td>old_peak</td>\n",
       "      <td>3.0</td>\n",
       "      <td>1.33</td>\n",
       "    </tr>\n",
       "  </tbody>\n",
       "</table>\n",
       "</div>"
      ],
      "text/plain": [
       "    method      Column  No_of_outliers  Persantage_of_outliers\n",
       "0      IQR  cholestrol             4.0                    1.77\n",
       "1  Z-Score     thalach             0.0                    0.00\n",
       "2      IQR    rest_bps             7.0                    3.10\n",
       "3  Z-Score         age             0.0                    0.00\n",
       "4      IQR    old_peak             3.0                    1.33"
      ]
     },
     "execution_count": 24,
     "metadata": {},
     "output_type": "execute_result"
    }
   ],
   "source": [
    "# We have very few outliers so we  can remove them\n",
    "\n",
    "CheckOutliers(x_train[numeric_data_columns])"
   ]
  },
  {
   "cell_type": "code",
   "execution_count": 25,
   "id": "bd4085c4-1e63-411e-8ec4-f2e6a81da9d8",
   "metadata": {
    "tags": []
   },
   "outputs": [],
   "source": [
    "train_ot_index, test_ot_index = OutlierIndex(x_train[numeric_data_columns],x_test[numeric_data_columns])"
   ]
  },
  {
   "cell_type": "code",
   "execution_count": 26,
   "id": "4242cdc7-8136-4104-b8cc-9c6e4799b58b",
   "metadata": {
    "tags": []
   },
   "outputs": [],
   "source": [
    "# remove outliers from train and test data \n",
    "x_train.drop(index = train_ot_index, inplace = True)\n",
    "y_train.drop(index = train_ot_index, inplace = True)\n",
    "\n",
    "x_test.drop(index = test_ot_index, inplace = True)\n",
    "y_test.drop(index = test_ot_index, inplace = True)"
   ]
  },
  {
   "cell_type": "code",
   "execution_count": 27,
   "id": "ced13c20-8acf-44f4-aa15-c9ed0a64233e",
   "metadata": {
    "tags": []
   },
   "outputs": [
    {
     "data": {
      "text/plain": [
       "((212, 13), (212,), (71, 13), (71,))"
      ]
     },
     "execution_count": 27,
     "metadata": {},
     "output_type": "execute_result"
    }
   ],
   "source": [
    "x_train.shape ,y_train.shape ,x_test.shape ,y_test.shape "
   ]
  },
  {
   "cell_type": "code",
   "execution_count": null,
   "id": "7431bf78-80e6-47e4-bf1e-3f45721a7df5",
   "metadata": {},
   "outputs": [],
   "source": []
  },
  {
   "cell_type": "markdown",
   "id": "84fe8b70-7a72-471e-b6e1-738921ade12d",
   "metadata": {
    "tags": []
   },
   "source": [
    "#### Making the function that Evaluate the Model"
   ]
  },
  {
   "cell_type": "code",
   "execution_count": 28,
   "id": "f9561266-4e8f-47e3-8fa9-ece988fb0e89",
   "metadata": {
    "tags": []
   },
   "outputs": [],
   "source": [
    "result_df = pd.DataFrame({\n",
    "        \"method\": [],\n",
    "        \"train_accuracy\": [],\n",
    "        \"test_accuracy\": [],\n",
    "        \"train_precision\":[],\n",
    "        'test_precision': [],\n",
    "        'train_recall':[],\n",
    "        \"test_recall\":[]\n",
    "      })\n",
    "\n",
    "def Evaluation(model, Method, x_train,y_train,x_test,y_test):\n",
    "    \n",
    "    # Model train on training the data \n",
    "    model.fit(x_train,y_train)\n",
    "    \n",
    "    # model prediction on train and test data \n",
    "    y_train_pred = model.predict(x_train)\n",
    "    y_test_pred = model.predict(x_test)\n",
    "    \n",
    "    # accuracy score \n",
    "    train_acc = accuracy_score(y_train,y_train_pred)\n",
    "    test_acc  = accuracy_score(y_test,y_test_pred)\n",
    "    \n",
    "    # precision score\n",
    "    train_pre = precision_score(y_train,y_train_pred)\n",
    "    test_pre = precision_score(y_test,y_test_pred)\n",
    "    \n",
    "    # re_call score \n",
    "    train_rec = recall_score(y_train, y_train_pred)\n",
    "    test_rec = recall_score(y_test, y_test_pred)\n",
    "    \n",
    "    temp_df = pd.DataFrame({\n",
    "        \"method\": [Method],\n",
    "        \"train_accuracy\": [train_acc],\n",
    "        \"test_accuracy\": [test_acc],\n",
    "        \"train_precision\":[train_pre],\n",
    "        'test_precision': [test_pre],\n",
    "        'train_recall':[train_rec],\n",
    "        \"test_recall\":[test_rec]\n",
    "      })\n",
    "    \n",
    "    global result_df\n",
    "    \n",
    "    result_df = pd.concat([result_df,temp_df])\n",
    "    \n",
    "    cm = confusion_matrix(y_test, y_test_pred)\n",
    "    cm_plot = ConfusionMatrixDisplay(cm)\n",
    "    cm_plot.plot()\n",
    "    \n",
    "    return result_df"
   ]
  },
  {
   "cell_type": "code",
   "execution_count": 29,
   "id": "1bf7abfe-a041-4029-93c8-b67d70e97799",
   "metadata": {
    "tags": []
   },
   "outputs": [],
   "source": [
    "# now it's time to train the model\n",
    "# import decision tree Classifier \n",
    "from sklearn.tree import DecisionTreeClassifier\n",
    "model = DecisionTreeClassifier()\n"
   ]
  },
  {
   "cell_type": "code",
   "execution_count": 30,
   "id": "835cf992-274b-473a-aeeb-b254104cd9ce",
   "metadata": {
    "tags": []
   },
   "outputs": [
    {
     "data": {
      "text/html": [
       "<div>\n",
       "<style scoped>\n",
       "    .dataframe tbody tr th:only-of-type {\n",
       "        vertical-align: middle;\n",
       "    }\n",
       "\n",
       "    .dataframe tbody tr th {\n",
       "        vertical-align: top;\n",
       "    }\n",
       "\n",
       "    .dataframe thead th {\n",
       "        text-align: right;\n",
       "    }\n",
       "</style>\n",
       "<table border=\"1\" class=\"dataframe\">\n",
       "  <thead>\n",
       "    <tr style=\"text-align: right;\">\n",
       "      <th></th>\n",
       "      <th>method</th>\n",
       "      <th>train_accuracy</th>\n",
       "      <th>test_accuracy</th>\n",
       "      <th>train_precision</th>\n",
       "      <th>test_precision</th>\n",
       "      <th>train_recall</th>\n",
       "      <th>test_recall</th>\n",
       "    </tr>\n",
       "  </thead>\n",
       "  <tbody>\n",
       "    <tr>\n",
       "      <th>0</th>\n",
       "      <td>only outliers remove and not hyperperameter tu...</td>\n",
       "      <td>1.0</td>\n",
       "      <td>0.788732</td>\n",
       "      <td>1.0</td>\n",
       "      <td>0.878788</td>\n",
       "      <td>1.0</td>\n",
       "      <td>0.725</td>\n",
       "    </tr>\n",
       "  </tbody>\n",
       "</table>\n",
       "</div>"
      ],
      "text/plain": [
       "                                              method  train_accuracy  \\\n",
       "0  only outliers remove and not hyperperameter tu...             1.0   \n",
       "\n",
       "   test_accuracy  train_precision  test_precision  train_recall  test_recall  \n",
       "0       0.788732              1.0        0.878788           1.0        0.725  "
      ]
     },
     "execution_count": 30,
     "metadata": {},
     "output_type": "execute_result"
    },
    {
     "data": {
      "image/png": "[encoded data removed]",
      "text/plain": [
       "<Figure size 640x480 with 2 Axes>"
      ]
     },
     "metadata": {},
     "output_type": "display_data"
    }
   ],
   "source": [
    "Evaluation(model,'only outliers remove and not hyperperameter tuning', x_train, y_train, x_test, y_test)"
   ]
  },
  {
   "cell_type": "code",
   "execution_count": 31,
   "id": "b3c29171-b49f-4d79-a93b-9ff90b4e863c",
   "metadata": {
    "tags": []
   },
   "outputs": [
    {
     "data": {
      "image/png": "[encoded data removed]",
      "text/plain": [
       "<Figure size 2000x2000 with 1 Axes>"
      ]
     },
     "metadata": {},
     "output_type": "display_data"
    }
   ],
   "source": [
    "plt.figure(figsize = (20,20))\n",
    "from sklearn import tree\n",
    "tree.plot_tree(model)\n",
    "plt.show()"
   ]
  },
  {
   "cell_type": "raw",
   "id": "1ca13240-788e-4654-8768-71ce285c3293",
   "metadata": {},
   "source": [
    "We can clearly see that decision tree makes pure node which leads the overfitting.\n",
    "so we have to do pruning (pre or post) to make model more generalized model"
   ]
  },
  {
   "cell_type": "markdown",
   "id": "ca9640e3-558b-47e7-ba64-24861b475a6d",
   "metadata": {},
   "source": [
    "### post pruning (cost complexity alpha cca)"
   ]
  },
  {
   "cell_type": "code",
   "execution_count": 33,
   "id": "95aa2354-7a9b-4952-9890-ee00ed8f6255",
   "metadata": {
    "tags": []
   },
   "outputs": [],
   "source": [
    "path  = model.cost_complexity_pruning_path(x_train,y_train)"
   ]
  },
  {
   "cell_type": "code",
   "execution_count": 34,
   "id": "993d5881-9e99-4971-8d74-7dd6a2276839",
   "metadata": {
    "tags": []
   },
   "outputs": [
    {
     "data": {
      "text/plain": [
       "{'ccp_alphas': array([0.        , 0.00309627, 0.00393082, 0.0043239 , 0.00460728,\n",
       "        0.00566038, 0.00628931, 0.00628931, 0.00718753, 0.00754717,\n",
       "        0.00865923, 0.00914808, 0.00920451, 0.01010451, 0.01132075,\n",
       "        0.01158557, 0.01226415, 0.01331222, 0.0188478 , 0.02129213,\n",
       "        0.03714623, 0.06097527, 0.12338271]),\n",
       " 'impurities': array([0.        , 0.00928882, 0.01715046, 0.02579826, 0.03501283,\n",
       "        0.04633358, 0.05262289, 0.0589122 , 0.08766232, 0.09520949,\n",
       "        0.11252794, 0.12167603, 0.14008504, 0.16029407, 0.17161482,\n",
       "        0.20637153, 0.21863568, 0.23194789, 0.25079569, 0.27208782,\n",
       "        0.30923405, 0.37020932, 0.49359203])}"
      ]
     },
     "execution_count": 34,
     "metadata": {},
     "output_type": "execute_result"
    }
   ],
   "source": [
    "path"
   ]
  },
  {
   "cell_type": "code",
   "execution_count": 35,
   "id": "cfff50af-fc8a-45a6-8cb0-e2e1a9021ab7",
   "metadata": {
    "tags": []
   },
   "outputs": [],
   "source": [
    "ccp_alphas = path.ccp_alphas\n",
    "impurities = path.impurities"
   ]
  },
  {
   "cell_type": "code",
   "execution_count": 36,
   "id": "95dbc55b-dafd-4c9f-9d36-fd08535e84d5",
   "metadata": {
    "tags": []
   },
   "outputs": [
    {
     "data": {
      "image/png": "[encoded data removed]",
      "text/plain": [
       "<Figure size 1000x500 with 1 Axes>"
      ]
     },
     "metadata": {},
     "output_type": "display_data"
    }
   ],
   "source": [
    "plt.figure(figsize = (10,5))\n",
    "plt.plot(ccp_alphas,impurities)\n",
    "plt.xlabel('ccp_alphas')\n",
    "plt.ylabel('impurities')\n",
    "plt.show()"
   ]
  },
  {
   "cell_type": "raw",
   "id": "860955c4-f8b7-4db4-afb3-d7bda36724a4",
   "metadata": {},
   "source": [
    "ccp_alphas graph with respect to the impurites \n",
    "small alpha means purest node and weakiest node \n",
    "we have to find the cc_alpha optimum value so we can reduce the overfitting and makes the model generalize"
   ]
  },
  {
   "cell_type": "code",
   "execution_count": null,
   "id": "057d7d36-7ab7-4a02-9330-087d678a84bb",
   "metadata": {},
   "outputs": [],
   "source": []
  },
  {
   "cell_type": "code",
   "execution_count": 37,
   "id": "0b418645-d8fc-4f19-b521-46f33f23edf4",
   "metadata": {
    "tags": []
   },
   "outputs": [],
   "source": [
    "models = []\n",
    "\n",
    "for cc_a in  ccp_alphas:\n",
    "    dc_model = DecisionTreeClassifier(random_state = 42, ccp_alpha = cc_a)\n",
    "    dc_model.fit(x_train,y_train)\n",
    "    models.append(dc_model)"
   ]
  },
  {
   "cell_type": "code",
   "execution_count": null,
   "id": "53bb6592-34af-46bc-bacd-48fc5c69a725",
   "metadata": {
    "tags": []
   },
   "outputs": [],
   "source": []
  },
  {
   "cell_type": "code",
   "execution_count": 38,
   "id": "2d4ab959-c0b3-495e-9422-f15d96c14ca2",
   "metadata": {
    "tags": []
   },
   "outputs": [],
   "source": [
    "# check the accuracy score for each model\n",
    "acc_scores_test = [accuracy_score(y_test,i_model.predict(x_test))for i_model in models]\n",
    "acc_scores_train = [accuracy_score(y_train,i_model.predict(x_train))for i_model in models]"
   ]
  },
  {
   "cell_type": "code",
   "execution_count": 39,
   "id": "89c9220f-d9a5-4405-af95-4f5fb9901119",
   "metadata": {
    "tags": []
   },
   "outputs": [
    {
     "data": {
      "image/png": "[encoded data removed]",
      "text/plain": [
       "<Figure size 1000x600 with 1 Axes>"
      ]
     },
     "metadata": {},
     "output_type": "display_data"
    }
   ],
   "source": [
    "plt.figure(figsize = (10,6))\n",
    "plt.plot(acc_scores_train,acc_scores_test, marker = 'o')\n",
    "plt.xlabel('acc_scores_train')\n",
    "plt.ylabel('acc_scores_test')\n",
    "plt.show()\n"
   ]
  },
  {
   "cell_type": "raw",
   "id": "8ac26afa-7975-49c4-9806-a8cdaccdc57f",
   "metadata": {},
   "source": [
    "plot the test accuracy score with respect to the train accuracy score (for show the changes in accuracy score at train and test with diffrent diffrent ccp_aplha)\n",
    "so we got to know at which alpha we found the best test score "
   ]
  },
  {
   "cell_type": "code",
   "execution_count": null,
   "id": "5612926d-98a6-4811-ac11-c7c7eda5dd7e",
   "metadata": {
    "tags": []
   },
   "outputs": [],
   "source": []
  },
  {
   "cell_type": "code",
   "execution_count": 40,
   "id": "a4e7d542-d8a9-4eef-8ff1-0904b0e1a8bd",
   "metadata": {
    "tags": []
   },
   "outputs": [
    {
     "data": {
      "text/plain": [
       "17"
      ]
     },
     "execution_count": 40,
     "metadata": {},
     "output_type": "execute_result"
    }
   ],
   "source": [
    "# index at  of highest test score \n",
    "np.argmax(np.array(acc_scores_test))"
   ]
  },
  {
   "cell_type": "code",
   "execution_count": 41,
   "id": "edd39465-d1dc-4ad2-a6f5-5c16ef6295de",
   "metadata": {
    "tags": []
   },
   "outputs": [
    {
     "data": {
      "text/plain": [
       "0.013312216312898278"
      ]
     },
     "execution_count": 41,
     "metadata": {},
     "output_type": "execute_result"
    }
   ],
   "source": [
    "# so  at the ccp_alpha value = 0.013312216312898278 gives the best test score \n",
    "ccp_alphas[17]"
   ]
  },
  {
   "cell_type": "code",
   "execution_count": null,
   "id": "04e89ac0-6148-43aa-95a6-66a5251931d2",
   "metadata": {},
   "outputs": [],
   "source": []
  },
  {
   "cell_type": "raw",
   "id": "94d40033-e091-41b6-bf0d-76074556cda9",
   "metadata": {},
   "source": [
    "# Evealute the model at ccp_alph = 0.013312216312898278"
   ]
  },
  {
   "cell_type": "code",
   "execution_count": 42,
   "id": "7826ead6-6e46-4d0c-a807-d6fa64fba807",
   "metadata": {
    "tags": []
   },
   "outputs": [
    {
     "data": {
      "text/html": [
       "<div>\n",
       "<style scoped>\n",
       "    .dataframe tbody tr th:only-of-type {\n",
       "        vertical-align: middle;\n",
       "    }\n",
       "\n",
       "    .dataframe tbody tr th {\n",
       "        vertical-align: top;\n",
       "    }\n",
       "\n",
       "    .dataframe thead th {\n",
       "        text-align: right;\n",
       "    }\n",
       "</style>\n",
       "<table border=\"1\" class=\"dataframe\">\n",
       "  <thead>\n",
       "    <tr style=\"text-align: right;\">\n",
       "      <th></th>\n",
       "      <th>method</th>\n",
       "      <th>train_accuracy</th>\n",
       "      <th>test_accuracy</th>\n",
       "      <th>train_precision</th>\n",
       "      <th>test_precision</th>\n",
       "      <th>train_recall</th>\n",
       "      <th>test_recall</th>\n",
       "    </tr>\n",
       "  </thead>\n",
       "  <tbody>\n",
       "    <tr>\n",
       "      <th>0</th>\n",
       "      <td>only outliers remove and not hyperperameter tu...</td>\n",
       "      <td>1.000000</td>\n",
       "      <td>0.788732</td>\n",
       "      <td>1.000000</td>\n",
       "      <td>0.878788</td>\n",
       "      <td>1.000000</td>\n",
       "      <td>0.725</td>\n",
       "    </tr>\n",
       "    <tr>\n",
       "      <th>0</th>\n",
       "      <td>only outliers remove and  ccp_alpha = 0.01331221</td>\n",
       "      <td>0.853774</td>\n",
       "      <td>0.859155</td>\n",
       "      <td>0.837209</td>\n",
       "      <td>0.857143</td>\n",
       "      <td>0.915254</td>\n",
       "      <td>0.900</td>\n",
       "    </tr>\n",
       "  </tbody>\n",
       "</table>\n",
       "</div>"
      ],
      "text/plain": [
       "                                              method  train_accuracy  \\\n",
       "0  only outliers remove and not hyperperameter tu...        1.000000   \n",
       "0   only outliers remove and  ccp_alpha = 0.01331221        0.853774   \n",
       "\n",
       "   test_accuracy  train_precision  test_precision  train_recall  test_recall  \n",
       "0       0.788732         1.000000        0.878788      1.000000        0.725  \n",
       "0       0.859155         0.837209        0.857143      0.915254        0.900  "
      ]
     },
     "execution_count": 42,
     "metadata": {},
     "output_type": "execute_result"
    },
    {
     "data": {
      "image/png": "[encoded data removed]",
      "text/plain": [
       "<Figure size 640x480 with 2 Axes>"
      ]
     },
     "metadata": {},
     "output_type": "display_data"
    }
   ],
   "source": [
    "new_model =  DecisionTreeClassifier(random_state = 42, ccp_alpha = 0.013312216312898278)\n",
    "Evaluation(new_model,'only outliers remove and  ccp_alpha = 0.01331221', x_train, y_train, x_test, y_test)"
   ]
  },
  {
   "cell_type": "code",
   "execution_count": null,
   "id": "2752053e-77bc-46e5-9419-639014268b60",
   "metadata": {},
   "outputs": [],
   "source": []
  },
  {
   "cell_type": "markdown",
   "id": "dc9655f0-2672-4542-90de-b37f125ed976",
   "metadata": {},
   "source": [
    "## Important Features"
   ]
  },
  {
   "cell_type": "code",
   "execution_count": 43,
   "id": "e8c357cc-6d0f-46dd-8545-fb5b7ed3ad7c",
   "metadata": {
    "tags": []
   },
   "outputs": [],
   "source": [
    "imp_features = pd.DataFrame(list(zip(new_model.feature_importances_,x_train.columns)))"
   ]
  },
  {
   "cell_type": "code",
   "execution_count": 44,
   "id": "44d20f14-df02-41a2-8b5e-7ea2fd756b72",
   "metadata": {
    "tags": []
   },
   "outputs": [],
   "source": [
    "imp_feature_col = imp_features[imp_features[0] > 0][1].values"
   ]
  },
  {
   "cell_type": "code",
   "execution_count": 45,
   "id": "792624ad-0dbf-4732-85f9-d751d37a26c0",
   "metadata": {
    "tags": []
   },
   "outputs": [
    {
     "data": {
      "text/html": [
       "<div>\n",
       "<style scoped>\n",
       "    .dataframe tbody tr th:only-of-type {\n",
       "        vertical-align: middle;\n",
       "    }\n",
       "\n",
       "    .dataframe tbody tr th {\n",
       "        vertical-align: top;\n",
       "    }\n",
       "\n",
       "    .dataframe thead th {\n",
       "        text-align: right;\n",
       "    }\n",
       "</style>\n",
       "<table border=\"1\" class=\"dataframe\">\n",
       "  <thead>\n",
       "    <tr style=\"text-align: right;\">\n",
       "      <th></th>\n",
       "      <th>method</th>\n",
       "      <th>train_accuracy</th>\n",
       "      <th>test_accuracy</th>\n",
       "      <th>train_precision</th>\n",
       "      <th>test_precision</th>\n",
       "      <th>train_recall</th>\n",
       "      <th>test_recall</th>\n",
       "    </tr>\n",
       "  </thead>\n",
       "  <tbody>\n",
       "    <tr>\n",
       "      <th>0</th>\n",
       "      <td>only outliers remove and not hyperperameter tu...</td>\n",
       "      <td>1.000000</td>\n",
       "      <td>0.788732</td>\n",
       "      <td>1.000000</td>\n",
       "      <td>0.878788</td>\n",
       "      <td>1.000000</td>\n",
       "      <td>0.725</td>\n",
       "    </tr>\n",
       "    <tr>\n",
       "      <th>0</th>\n",
       "      <td>only outliers remove and  ccp_alpha = 0.01331221</td>\n",
       "      <td>0.853774</td>\n",
       "      <td>0.859155</td>\n",
       "      <td>0.837209</td>\n",
       "      <td>0.857143</td>\n",
       "      <td>0.915254</td>\n",
       "      <td>0.900</td>\n",
       "    </tr>\n",
       "    <tr>\n",
       "      <th>0</th>\n",
       "      <td>ot remove,ccp_alpha = 0.01331221, important fe...</td>\n",
       "      <td>0.853774</td>\n",
       "      <td>0.859155</td>\n",
       "      <td>0.837209</td>\n",
       "      <td>0.857143</td>\n",
       "      <td>0.915254</td>\n",
       "      <td>0.900</td>\n",
       "    </tr>\n",
       "  </tbody>\n",
       "</table>\n",
       "</div>"
      ],
      "text/plain": [
       "                                              method  train_accuracy  \\\n",
       "0  only outliers remove and not hyperperameter tu...        1.000000   \n",
       "0   only outliers remove and  ccp_alpha = 0.01331221        0.853774   \n",
       "0  ot remove,ccp_alpha = 0.01331221, important fe...        0.853774   \n",
       "\n",
       "   test_accuracy  train_precision  test_precision  train_recall  test_recall  \n",
       "0       0.788732         1.000000        0.878788      1.000000        0.725  \n",
       "0       0.859155         0.837209        0.857143      0.915254        0.900  \n",
       "0       0.859155         0.837209        0.857143      0.915254        0.900  "
      ]
     },
     "execution_count": 45,
     "metadata": {},
     "output_type": "execute_result"
    },
    {
     "data": {
      "image/png": "[encoded data removed]",
      "text/plain": [
       "<Figure size 640x480 with 2 Axes>"
      ]
     },
     "metadata": {},
     "output_type": "display_data"
    }
   ],
   "source": [
    "Evaluation(new_model,'ot remove,ccp_alpha = 0.01331221, important features', x_train[imp_feature_col], y_train, x_test[imp_feature_col], y_test)"
   ]
  },
  {
   "cell_type": "raw",
   "id": "bdacbc63-fd7a-4bdb-9b4c-bc5d13852d58",
   "metadata": {
    "tags": []
   },
   "source": [
    "Important Features Selection :- WE found that after  removing 8 out of 13 featurss that are not important bassed on values\n",
    "(values that explain feature played a more significant role in reducing impurity while making a decision tree) --- model perform still same there are no changes in accuracy, recall and precision\n",
    "\n",
    "# se we choose to remove that column in our final model  because they were not playing any significant role in prediction\n",
    "and we want simple and generalized model.\n",
    "\n",
    "\n",
    "(Higher Importance Score:- Indicates a greater contribution to the reduction of impurity and, consequently, a stronger influence on the model’s decisions.\n",
    "\n",
    "Lower Importance Score:- Suggests a smaller contribution to impurity reduction and a lesser impact on the model’s predictive performance.)"
   ]
  },
  {
   "cell_type": "code",
   "execution_count": null,
   "id": "9a3611b0-f2bd-4f47-8016-02f95021c0dc",
   "metadata": {},
   "outputs": [],
   "source": []
  },
  {
   "cell_type": "markdown",
   "id": "71792f1a-8d67-42d3-8c87-18b84f07a809",
   "metadata": {},
   "source": [
    "### Final Model "
   ]
  },
  {
   "cell_type": "code",
   "execution_count": 46,
   "id": "c2706df4-6266-44b7-a948-4d4e91f77a29",
   "metadata": {
    "tags": []
   },
   "outputs": [],
   "source": [
    "# Make the Object of  Model\n",
    "clf = DecisionTreeClassifier(random_state = 42, ccp_alpha = 0.013312216312898278)"
   ]
  },
  {
   "cell_type": "code",
   "execution_count": 47,
   "id": "25b6f88d-95ed-4ca9-b97d-8561ac46b8ba",
   "metadata": {
    "tags": []
   },
   "outputs": [
    {
     "data": {
      "text/html": [
       "<style>#sk-container-id-1 {\n",
       "  /* Definition of color scheme common for light and dark mode */\n",
       "  --sklearn-color-text: black;\n",
       "  --sklearn-color-line: gray;\n",
       "  /* Definition of color scheme for unfitted estimators */\n",
       "  --sklearn-color-unfitted-level-0: #fff5e6;\n",
       "  --sklearn-color-unfitted-level-1: #f6e4d2;\n",
       "  --sklearn-color-unfitted-level-2: #ffe0b3;\n",
       "  --sklearn-color-unfitted-level-3: chocolate;\n",
       "  /* Definition of color scheme for fitted estimators */\n",
       "  --sklearn-color-fitted-level-0: #f0f8ff;\n",
       "  --sklearn-color-fitted-level-1: #d4ebff;\n",
       "  --sklearn-color-fitted-level-2: #b3dbfd;\n",
       "  --sklearn-color-fitted-level-3: cornflowerblue;\n",
       "\n",
       "  /* Specific color for light theme */\n",
       "  --sklearn-color-text-on-default-background: var(--sg-text-color, var(--theme-code-foreground, var(--jp-content-font-color1, black)));\n",
       "  --sklearn-color-background: var(--sg-background-color, var(--theme-background, var(--jp-layout-color0, white)));\n",
       "  --sklearn-color-border-box: var(--sg-text-color, var(--theme-code-foreground, var(--jp-content-font-color1, black)));\n",
       "  --sklearn-color-icon: #696969;\n",
       "\n",
       "  @media (prefers-color-scheme: dark) {\n",
       "    /* Redefinition of color scheme for dark theme */\n",
       "    --sklearn-color-text-on-default-background: var(--sg-text-color, var(--theme-code-foreground, var(--jp-content-font-color1, white)));\n",
       "    --sklearn-color-background: var(--sg-background-color, var(--theme-background, var(--jp-layout-color0, #111)));\n",
       "    --sklearn-color-border-box: var(--sg-text-color, var(--theme-code-foreground, var(--jp-content-font-color1, white)));\n",
       "    --sklearn-color-icon: #878787;\n",
       "  }\n",
       "}\n",
       "\n",
       "#sk-container-id-1 {\n",
       "  color: var(--sklearn-color-text);\n",
       "}\n",
       "\n",
       "#sk-container-id-1 pre {\n",
       "  padding: 0;\n",
       "}\n",
       "\n",
       "#sk-container-id-1 input.sk-hidden--visually {\n",
       "  border: 0;\n",
       "  clip: rect(1px 1px 1px 1px);\n",
       "  clip: rect(1px, 1px, 1px, 1px);\n",
       "  height: 1px;\n",
       "  margin: -1px;\n",
       "  overflow: hidden;\n",
       "  padding: 0;\n",
       "  position: absolute;\n",
       "  width: 1px;\n",
       "}\n",
       "\n",
       "#sk-container-id-1 div.sk-dashed-wrapped {\n",
       "  border: 1px dashed var(--sklearn-color-line);\n",
       "  margin: 0 0.4em 0.5em 0.4em;\n",
       "  box-sizing: border-box;\n",
       "  padding-bottom: 0.4em;\n",
       "  background-color: var(--sklearn-color-background);\n",
       "}\n",
       "\n",
       "#sk-container-id-1 div.sk-container {\n",
       "  /* jupyter's `normalize.less` sets `[hidden] { display: none; }`\n",
       "     but bootstrap.min.css set `[hidden] { display: none !important; }`\n",
       "     so we also need the `!important` here to be able to override the\n",
       "     default hidden behavior on the sphinx rendered scikit-learn.org.\n",
       "     See: https://github.com/scikit-learn/scikit-learn/issues/21755 */\n",
       "  display: inline-block !important;\n",
       "  position: relative;\n",
       "}\n",
       "\n",
       "#sk-container-id-1 div.sk-text-repr-fallback {\n",
       "  display: none;\n",
       "}\n",
       "\n",
       "div.sk-parallel-item,\n",
       "div.sk-serial,\n",
       "div.sk-item {\n",
       "  /* draw centered vertical line to link estimators */\n",
       "  background-image: linear-gradient(var(--sklearn-color-text-on-default-background), var(--sklearn-color-text-on-default-background));\n",
       "  background-size: 2px 100%;\n",
       "  background-repeat: no-repeat;\n",
       "  background-position: center center;\n",
       "}\n",
       "\n",
       "/* Parallel-specific style estimator block */\n",
       "\n",
       "#sk-container-id-1 div.sk-parallel-item::after {\n",
       "  content: \"\";\n",
       "  width: 100%;\n",
       "  border-bottom: 2px solid var(--sklearn-color-text-on-default-background);\n",
       "  flex-grow: 1;\n",
       "}\n",
       "\n",
       "#sk-container-id-1 div.sk-parallel {\n",
       "  display: flex;\n",
       "  align-items: stretch;\n",
       "  justify-content: center;\n",
       "  background-color: var(--sklearn-color-background);\n",
       "  position: relative;\n",
       "}\n",
       "\n",
       "#sk-container-id-1 div.sk-parallel-item {\n",
       "  display: flex;\n",
       "  flex-direction: column;\n",
       "}\n",
       "\n",
       "#sk-container-id-1 div.sk-parallel-item:first-child::after {\n",
       "  align-self: flex-end;\n",
       "  width: 50%;\n",
       "}\n",
       "\n",
       "#sk-container-id-1 div.sk-parallel-item:last-child::after {\n",
       "  align-self: flex-start;\n",
       "  width: 50%;\n",
       "}\n",
       "\n",
       "#sk-container-id-1 div.sk-parallel-item:only-child::after {\n",
       "  width: 0;\n",
       "}\n",
       "\n",
       "/* Serial-specific style estimator block */\n",
       "\n",
       "#sk-container-id-1 div.sk-serial {\n",
       "  display: flex;\n",
       "  flex-direction: column;\n",
       "  align-items: center;\n",
       "  background-color: var(--sklearn-color-background);\n",
       "  padding-right: 1em;\n",
       "  padding-left: 1em;\n",
       "}\n",
       "\n",
       "\n",
       "/* Toggleable style: style used for estimator/Pipeline/ColumnTransformer box that is\n",
       "clickable and can be expanded/collapsed.\n",
       "- Pipeline and ColumnTransformer use this feature and define the default style\n",
       "- Estimators will overwrite some part of the style using the `sk-estimator` class\n",
       "*/\n",
       "\n",
       "/* Pipeline and ColumnTransformer style (default) */\n",
       "\n",
       "#sk-container-id-1 div.sk-toggleable {\n",
       "  /* Default theme specific background. It is overwritten whether we have a\n",
       "  specific estimator or a Pipeline/ColumnTransformer */\n",
       "  background-color: var(--sklearn-color-background);\n",
       "}\n",
       "\n",
       "/* Toggleable label */\n",
       "#sk-container-id-1 label.sk-toggleable__label {\n",
       "  cursor: pointer;\n",
       "  display: block;\n",
       "  width: 100%;\n",
       "  margin-bottom: 0;\n",
       "  padding: 0.5em;\n",
       "  box-sizing: border-box;\n",
       "  text-align: center;\n",
       "}\n",
       "\n",
       "#sk-container-id-1 label.sk-toggleable__label-arrow:before {\n",
       "  /* Arrow on the left of the label */\n",
       "  content: \"▸\";\n",
       "  float: left;\n",
       "  margin-right: 0.25em;\n",
       "  color: var(--sklearn-color-icon);\n",
       "}\n",
       "\n",
       "#sk-container-id-1 label.sk-toggleable__label-arrow:hover:before {\n",
       "  color: var(--sklearn-color-text);\n",
       "}\n",
       "\n",
       "/* Toggleable content - dropdown */\n",
       "\n",
       "#sk-container-id-1 div.sk-toggleable__content {\n",
       "  max-height: 0;\n",
       "  max-width: 0;\n",
       "  overflow: hidden;\n",
       "  text-align: left;\n",
       "  /* unfitted */\n",
       "  background-color: var(--sklearn-color-unfitted-level-0);\n",
       "}\n",
       "\n",
       "#sk-container-id-1 div.sk-toggleable__content.fitted {\n",
       "  /* fitted */\n",
       "  background-color: var(--sklearn-color-fitted-level-0);\n",
       "}\n",
       "\n",
       "#sk-container-id-1 div.sk-toggleable__content pre {\n",
       "  margin: 0.2em;\n",
       "  border-radius: 0.25em;\n",
       "  color: var(--sklearn-color-text);\n",
       "  /* unfitted */\n",
       "  background-color: var(--sklearn-color-unfitted-level-0);\n",
       "}\n",
       "\n",
       "#sk-container-id-1 div.sk-toggleable__content.fitted pre {\n",
       "  /* unfitted */\n",
       "  background-color: var(--sklearn-color-fitted-level-0);\n",
       "}\n",
       "\n",
       "#sk-container-id-1 input.sk-toggleable__control:checked~div.sk-toggleable__content {\n",
       "  /* Expand drop-down */\n",
       "  max-height: 200px;\n",
       "  max-width: 100%;\n",
       "  overflow: auto;\n",
       "}\n",
       "\n",
       "#sk-container-id-1 input.sk-toggleable__control:checked~label.sk-toggleable__label-arrow:before {\n",
       "  content: \"▾\";\n",
       "}\n",
       "\n",
       "/* Pipeline/ColumnTransformer-specific style */\n",
       "\n",
       "#sk-container-id-1 div.sk-label input.sk-toggleable__control:checked~label.sk-toggleable__label {\n",
       "  color: var(--sklearn-color-text);\n",
       "  background-color: var(--sklearn-color-unfitted-level-2);\n",
       "}\n",
       "\n",
       "#sk-container-id-1 div.sk-label.fitted input.sk-toggleable__control:checked~label.sk-toggleable__label {\n",
       "  background-color: var(--sklearn-color-fitted-level-2);\n",
       "}\n",
       "\n",
       "/* Estimator-specific style */\n",
       "\n",
       "/* Colorize estimator box */\n",
       "#sk-container-id-1 div.sk-estimator input.sk-toggleable__control:checked~label.sk-toggleable__label {\n",
       "  /* unfitted */\n",
       "  background-color: var(--sklearn-color-unfitted-level-2);\n",
       "}\n",
       "\n",
       "#sk-container-id-1 div.sk-estimator.fitted input.sk-toggleable__control:checked~label.sk-toggleable__label {\n",
       "  /* fitted */\n",
       "  background-color: var(--sklearn-color-fitted-level-2);\n",
       "}\n",
       "\n",
       "#sk-container-id-1 div.sk-label label.sk-toggleable__label,\n",
       "#sk-container-id-1 div.sk-label label {\n",
       "  /* The background is the default theme color */\n",
       "  color: var(--sklearn-color-text-on-default-background);\n",
       "}\n",
       "\n",
       "/* On hover, darken the color of the background */\n",
       "#sk-container-id-1 div.sk-label:hover label.sk-toggleable__label {\n",
       "  color: var(--sklearn-color-text);\n",
       "  background-color: var(--sklearn-color-unfitted-level-2);\n",
       "}\n",
       "\n",
       "/* Label box, darken color on hover, fitted */\n",
       "#sk-container-id-1 div.sk-label.fitted:hover label.sk-toggleable__label.fitted {\n",
       "  color: var(--sklearn-color-text);\n",
       "  background-color: var(--sklearn-color-fitted-level-2);\n",
       "}\n",
       "\n",
       "/* Estimator label */\n",
       "\n",
       "#sk-container-id-1 div.sk-label label {\n",
       "  font-family: monospace;\n",
       "  font-weight: bold;\n",
       "  display: inline-block;\n",
       "  line-height: 1.2em;\n",
       "}\n",
       "\n",
       "#sk-container-id-1 div.sk-label-container {\n",
       "  text-align: center;\n",
       "}\n",
       "\n",
       "/* Estimator-specific */\n",
       "#sk-container-id-1 div.sk-estimator {\n",
       "  font-family: monospace;\n",
       "  border: 1px dotted var(--sklearn-color-border-box);\n",
       "  border-radius: 0.25em;\n",
       "  box-sizing: border-box;\n",
       "  margin-bottom: 0.5em;\n",
       "  /* unfitted */\n",
       "  background-color: var(--sklearn-color-unfitted-level-0);\n",
       "}\n",
       "\n",
       "#sk-container-id-1 div.sk-estimator.fitted {\n",
       "  /* fitted */\n",
       "  background-color: var(--sklearn-color-fitted-level-0);\n",
       "}\n",
       "\n",
       "/* on hover */\n",
       "#sk-container-id-1 div.sk-estimator:hover {\n",
       "  /* unfitted */\n",
       "  background-color: var(--sklearn-color-unfitted-level-2);\n",
       "}\n",
       "\n",
       "#sk-container-id-1 div.sk-estimator.fitted:hover {\n",
       "  /* fitted */\n",
       "  background-color: var(--sklearn-color-fitted-level-2);\n",
       "}\n",
       "\n",
       "/* Specification for estimator info (e.g. \"i\" and \"?\") */\n",
       "\n",
       "/* Common style for \"i\" and \"?\" */\n",
       "\n",
       ".sk-estimator-doc-link,\n",
       "a:link.sk-estimator-doc-link,\n",
       "a:visited.sk-estimator-doc-link {\n",
       "  float: right;\n",
       "  font-size: smaller;\n",
       "  line-height: 1em;\n",
       "  font-family: monospace;\n",
       "  background-color: var(--sklearn-color-background);\n",
       "  border-radius: 1em;\n",
       "  height: 1em;\n",
       "  width: 1em;\n",
       "  text-decoration: none !important;\n",
       "  margin-left: 1ex;\n",
       "  /* unfitted */\n",
       "  border: var(--sklearn-color-unfitted-level-1) 1pt solid;\n",
       "  color: var(--sklearn-color-unfitted-level-1);\n",
       "}\n",
       "\n",
       ".sk-estimator-doc-link.fitted,\n",
       "a:link.sk-estimator-doc-link.fitted,\n",
       "a:visited.sk-estimator-doc-link.fitted {\n",
       "  /* fitted */\n",
       "  border: var(--sklearn-color-fitted-level-1) 1pt solid;\n",
       "  color: var(--sklearn-color-fitted-level-1);\n",
       "}\n",
       "\n",
       "/* On hover */\n",
       "div.sk-estimator:hover .sk-estimator-doc-link:hover,\n",
       ".sk-estimator-doc-link:hover,\n",
       "div.sk-label-container:hover .sk-estimator-doc-link:hover,\n",
       ".sk-estimator-doc-link:hover {\n",
       "  /* unfitted */\n",
       "  background-color: var(--sklearn-color-unfitted-level-3);\n",
       "  color: var(--sklearn-color-background);\n",
       "  text-decoration: none;\n",
       "}\n",
       "\n",
       "div.sk-estimator.fitted:hover .sk-estimator-doc-link.fitted:hover,\n",
       ".sk-estimator-doc-link.fitted:hover,\n",
       "div.sk-label-container:hover .sk-estimator-doc-link.fitted:hover,\n",
       ".sk-estimator-doc-link.fitted:hover {\n",
       "  /* fitted */\n",
       "  background-color: var(--sklearn-color-fitted-level-3);\n",
       "  color: var(--sklearn-color-background);\n",
       "  text-decoration: none;\n",
       "}\n",
       "\n",
       "/* Span, style for the box shown on hovering the info icon */\n",
       ".sk-estimator-doc-link span {\n",
       "  display: none;\n",
       "  z-index: 9999;\n",
       "  position: relative;\n",
       "  font-weight: normal;\n",
       "  right: .2ex;\n",
       "  padding: .5ex;\n",
       "  margin: .5ex;\n",
       "  width: min-content;\n",
       "  min-width: 20ex;\n",
       "  max-width: 50ex;\n",
       "  color: var(--sklearn-color-text);\n",
       "  box-shadow: 2pt 2pt 4pt #999;\n",
       "  /* unfitted */\n",
       "  background: var(--sklearn-color-unfitted-level-0);\n",
       "  border: .5pt solid var(--sklearn-color-unfitted-level-3);\n",
       "}\n",
       "\n",
       ".sk-estimator-doc-link.fitted span {\n",
       "  /* fitted */\n",
       "  background: var(--sklearn-color-fitted-level-0);\n",
       "  border: var(--sklearn-color-fitted-level-3);\n",
       "}\n",
       "\n",
       ".sk-estimator-doc-link:hover span {\n",
       "  display: block;\n",
       "}\n",
       "\n",
       "/* \"?\"-specific style due to the `<a>` HTML tag */\n",
       "\n",
       "#sk-container-id-1 a.estimator_doc_link {\n",
       "  float: right;\n",
       "  font-size: 1rem;\n",
       "  line-height: 1em;\n",
       "  font-family: monospace;\n",
       "  background-color: var(--sklearn-color-background);\n",
       "  border-radius: 1rem;\n",
       "  height: 1rem;\n",
       "  width: 1rem;\n",
       "  text-decoration: none;\n",
       "  /* unfitted */\n",
       "  color: var(--sklearn-color-unfitted-level-1);\n",
       "  border: var(--sklearn-color-unfitted-level-1) 1pt solid;\n",
       "}\n",
       "\n",
       "#sk-container-id-1 a.estimator_doc_link.fitted {\n",
       "  /* fitted */\n",
       "  border: var(--sklearn-color-fitted-level-1) 1pt solid;\n",
       "  color: var(--sklearn-color-fitted-level-1);\n",
       "}\n",
       "\n",
       "/* On hover */\n",
       "#sk-container-id-1 a.estimator_doc_link:hover {\n",
       "  /* unfitted */\n",
       "  background-color: var(--sklearn-color-unfitted-level-3);\n",
       "  color: var(--sklearn-color-background);\n",
       "  text-decoration: none;\n",
       "}\n",
       "\n",
       "#sk-container-id-1 a.estimator_doc_link.fitted:hover {\n",
       "  /* fitted */\n",
       "  background-color: var(--sklearn-color-fitted-level-3);\n",
       "}\n",
       "</style><div id=\"sk-container-id-1\" class=\"sk-top-container\"><div class=\"sk-text-repr-fallback\"><pre>DecisionTreeClassifier(ccp_alpha=0.013312216312898278, random_state=42)</pre><b>In a Jupyter environment, please rerun this cell to show the HTML representation or trust the notebook. <br />On GitHub, the HTML representation is unable to render, please try loading this page with nbviewer.org.</b></div><div class=\"sk-container\" hidden><div class=\"sk-item\"><div class=\"sk-estimator fitted sk-toggleable\"><input class=\"sk-toggleable__control sk-hidden--visually\" id=\"sk-estimator-id-1\" type=\"checkbox\" checked><label for=\"sk-estimator-id-1\" class=\"sk-toggleable__label fitted sk-toggleable__label-arrow fitted\">&nbsp;&nbsp;DecisionTreeClassifier<a class=\"sk-estimator-doc-link fitted\" rel=\"noreferrer\" target=\"_blank\" href=\"https://scikit-learn.org/1.4/modules/generated/sklearn.tree.DecisionTreeClassifier.html\">?<span>Documentation for DecisionTreeClassifier</span></a><span class=\"sk-estimator-doc-link fitted\">i<span>Fitted</span></span></label><div class=\"sk-toggleable__content fitted\"><pre>DecisionTreeClassifier(ccp_alpha=0.013312216312898278, random_state=42)</pre></div> </div></div></div></div>"
      ],
      "text/plain": [
       "DecisionTreeClassifier(ccp_alpha=0.013312216312898278, random_state=42)"
      ]
     },
     "execution_count": 47,
     "metadata": {},
     "output_type": "execute_result"
    }
   ],
   "source": [
    "# Train the model on Training Data\n",
    "clf.fit(x_train[imp_feature_col],y_train)"
   ]
  },
  {
   "cell_type": "markdown",
   "id": "05a6af8a-fae4-4444-ba81-f6071515d4d7",
   "metadata": {},
   "source": [
    "## Conclusin \n",
    " This project employed a systematic and detailed approach to predicting heart disease in patients. Through effective data preprocessing—removing duplicates, addressing outliers, and performing feature selection—the quality of the dataset was significantly enhanced, leading to a more generalized and efficient predictive model.\r\n",
    "The decision tree model, trained on the most relevant features, achieved high accuracy, precision, and recall on both training and testing dataset. These results highlight the model's ability to reliably predict heart disease, demonstrating its potential as a valuable tool for healthcare professionals in diagnosing and managing heart conditions.\n",
    "\n",
    "\n",
    "\n",
    "\n",
    "\n",
    "\n"
   ]
  },
  {
   "cell_type": "code",
   "execution_count": null,
   "id": "2e66815e-8c20-4042-b511-8cf4c6fcaec9",
   "metadata": {},
   "outputs": [],
   "source": []
  }
 ],
 "metadata": {
  "kernelspec": {
   "display_name": "Python 3 (ipykernel)",
   "language": "python",
   "name": "python3"
  },
  "language_info": {
   "codemirror_mode": {
    "name": "ipython",
    "version": 3
   },
   "file_extension": ".py",
   "mimetype": "text/x-python",
   "name": "python",
   "nbconvert_exporter": "python",
   "pygments_lexer": "ipython3",
   "version": "3.12.4"
  }
 },
 "nbformat": 4,
 "nbformat_minor": 5
}
